{
 "cells": [
  {
   "cell_type": "code",
   "execution_count": 1,
   "metadata": {
    "collapsed": false
   },
   "outputs": [],
   "source": [
    "\"\"\"\n",
    "@author: Justice Amoh\n",
    "@description: Script for building a pandas dataframe database for spoken digit data\n",
    "@date: 02/05/2017\n",
    "\"\"\"\n",
    "\n",
    "# All Necessary Imports\n",
    "## Basic imports\n",
    "import os\n",
    "import re\n",
    "import sys\n",
    "import gzip\n",
    "import librosa\n",
    "import numpy as np\n",
    "import pandas as pd\n",
    "import cPickle as pickle\n",
    "\n",
    "from tqdm import tqdm\n",
    "from subprocess import call, Popen, PIPE\n",
    "\n",
    "#####################################\n",
    "############  LOAD DATA  ############\n",
    "#####################################\n",
    "\n",
    "# Load Wav File Paths\n",
    "wavfiles=[]\n",
    "\n",
    "root='recordings/'\n",
    "exclude = set(['others', 'breath', 'wheeze'])\n",
    "for path, dirs, files in os.walk(root, topdown=True):\n",
    "    for file in files:\n",
    "        if file.endswith('.wav'):\n",
    "            wavfiles.append(os.path.join(path, file))\n",
    "\n",
    "# STFT Computation\n",
    "Fs   = 8000\n",
    "nfft = 128\n",
    "hop  = nfft/2\n",
    "\n",
    "\n",
    "## Initialize Variables\n",
    "Wave      = []\n",
    "Magnitude = []\n",
    "Phase     = []\n",
    "SIndex    = []\n",
    "Class     = []\n",
    "\n",
    "TStretch  = []\n",
    "PShift    = []\n",
    "\n",
    "fout='./out.wav'    \n"
   ]
  },
  {
   "cell_type": "code",
   "execution_count": 2,
   "metadata": {
    "collapsed": false
   },
   "outputs": [
    {
     "name": "stderr",
     "output_type": "stream",
     "text": [
      "100%|██████████| 501/501 [01:14<00:00,  6.64it/s]\n"
     ]
    }
   ],
   "source": [
    "for wavfile in tqdm(wavfiles):\n",
    "    for ts in [0.75,1,1.25]:\n",
    "            for ps in [-1,0,+1]:\n",
    "                # Generate augmentation using rubberband\n",
    "                dump  = !./rubberband -t {ts} -p {ps} {wavfile} {fout}\n",
    "                y,_   = librosa.load(fout,sr=Fs)\n",
    "                \n",
    "                # # Normalize by RMSE\n",
    "                # rmse = librosa.feature.rmse(y,hop_length=len(y)+1)[0][0]\n",
    "                # y = y/rmse\n",
    "                \n",
    "                ## Compute STFT\n",
    "                s = librosa.stft(y,n_fft=nfft-1,hop_length=hop)\n",
    "                magnitude, phase = librosa.magphase(s) \n",
    "\n",
    "                magnitude = librosa.amplitude_to_db(magnitude)\n",
    "                phase     = np.angle(phase)\n",
    "\n",
    "                # f = librosa.fft_frequencies(sr=sr,n_fft=nfft)\n",
    "                # t = librosa.frames_to_time(np.arange(0,S.shape[1]),sr=sr,hop_length=hop)                \n",
    "\n",
    "                svar = re.split('[_/.]',wavfile)\n",
    "\n",
    "                Wave.append(y)\n",
    "                Magnitude.append(magnitude)\n",
    "                Phase.append(phase)\n",
    "                SIndex.append(int(svar[-2]))\n",
    "                TStretch.append(ts)\n",
    "                PShift.append(ps)\n",
    "                Class.append(svar[-4])\n",
    "    \n",
    "df =      pd.DataFrame({ 'Wave'         : pd.Series(Wave),\n",
    "                         'Magnitude'    : pd.Series(Magnitude),\n",
    "                         'Phase'        : pd.Series(Phase),\n",
    "                         'SIndex'       : pd.Series(SIndex),\n",
    "                         'TStretch'     : pd.Series(TStretch),\n",
    "                         'PShift'       : pd.Series(PShift),\n",
    "                         'Class'        : pd.Categorical(Class) })"
   ]
  },
  {
   "cell_type": "code",
   "execution_count": 9,
   "metadata": {
    "collapsed": false
   },
   "outputs": [
    {
     "name": "stdout",
     "output_type": "stream",
     "text": [
      "File saved as SpokenDigitDB.pkl.gz\n"
     ]
    }
   ],
   "source": [
    "#####################################\n",
    "############  SAVE DATA  ############\n",
    "#####################################\n",
    "save_on=True  # save or load file\n",
    "\n",
    "dbfile ='SpokenDigitDB.pkl.gz'\n",
    "if save_on:\n",
    "    with gzip.open(dbfile, 'wb') as ifile:\n",
    "        pickle.dump(df, ifile, 2)\n",
    "        print('File saved as '+ dbfile)\n"
   ]
  }
 ],
 "metadata": {
  "anaconda-cloud": {},
  "kernelspec": {
   "display_name": "Python [conda env:deeplearn]",
   "language": "python",
   "name": "conda-env-deeplearn-py"
  },
  "language_info": {
   "codemirror_mode": {
    "name": "ipython",
    "version": 2
   },
   "file_extension": ".py",
   "mimetype": "text/x-python",
   "name": "python",
   "nbconvert_exporter": "python",
   "pygments_lexer": "ipython2",
   "version": "2.7.11"
  }
 },
 "nbformat": 4,
 "nbformat_minor": 1
}
